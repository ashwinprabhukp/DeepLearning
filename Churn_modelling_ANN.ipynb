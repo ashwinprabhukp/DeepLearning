{
 "cells": [
  {
   "cell_type": "markdown",
   "id": "09543d8f",
   "metadata": {},
   "source": [
    "# Churn Modelling using ANN"
   ]
  },
  {
   "cell_type": "code",
   "execution_count": 1,
   "id": "6cd5a8b3",
   "metadata": {},
   "outputs": [],
   "source": [
    "#!pip install tensorflow-gpu"
   ]
  },
  {
   "cell_type": "code",
   "execution_count": 2,
   "id": "746d4c7e",
   "metadata": {},
   "outputs": [
    {
     "name": "stdout",
     "output_type": "stream",
     "text": [
      "2.10.1\n"
     ]
    }
   ],
   "source": [
    "import tensorflow as tf\n",
    "print(tf.__version__)"
   ]
  },
  {
   "cell_type": "code",
   "execution_count": 3,
   "id": "5adaf3ec",
   "metadata": {},
   "outputs": [],
   "source": [
    "## import some basic libraries\n",
    "import numpy as np\n",
    "import matplotlib.pyplot as plt\n",
    "import pandas as pd"
   ]
  },
  {
   "cell_type": "code",
   "execution_count": 4,
   "id": "fe19a671",
   "metadata": {},
   "outputs": [
    {
     "data": {
      "text/html": [
       "<div>\n",
       "<style scoped>\n",
       "    .dataframe tbody tr th:only-of-type {\n",
       "        vertical-align: middle;\n",
       "    }\n",
       "\n",
       "    .dataframe tbody tr th {\n",
       "        vertical-align: top;\n",
       "    }\n",
       "\n",
       "    .dataframe thead th {\n",
       "        text-align: right;\n",
       "    }\n",
       "</style>\n",
       "<table border=\"1\" class=\"dataframe\">\n",
       "  <thead>\n",
       "    <tr style=\"text-align: right;\">\n",
       "      <th></th>\n",
       "      <th>RowNumber</th>\n",
       "      <th>CustomerId</th>\n",
       "      <th>Surname</th>\n",
       "      <th>CreditScore</th>\n",
       "      <th>Geography</th>\n",
       "      <th>Gender</th>\n",
       "      <th>Age</th>\n",
       "      <th>Tenure</th>\n",
       "      <th>Balance</th>\n",
       "      <th>NumOfProducts</th>\n",
       "      <th>HasCrCard</th>\n",
       "      <th>IsActiveMember</th>\n",
       "      <th>EstimatedSalary</th>\n",
       "      <th>Exited</th>\n",
       "    </tr>\n",
       "  </thead>\n",
       "  <tbody>\n",
       "    <tr>\n",
       "      <th>0</th>\n",
       "      <td>1</td>\n",
       "      <td>15634602</td>\n",
       "      <td>Hargrave</td>\n",
       "      <td>619</td>\n",
       "      <td>France</td>\n",
       "      <td>Female</td>\n",
       "      <td>42</td>\n",
       "      <td>2</td>\n",
       "      <td>0.00</td>\n",
       "      <td>1</td>\n",
       "      <td>1</td>\n",
       "      <td>1</td>\n",
       "      <td>101348.88</td>\n",
       "      <td>1</td>\n",
       "    </tr>\n",
       "    <tr>\n",
       "      <th>1</th>\n",
       "      <td>2</td>\n",
       "      <td>15647311</td>\n",
       "      <td>Hill</td>\n",
       "      <td>608</td>\n",
       "      <td>Spain</td>\n",
       "      <td>Female</td>\n",
       "      <td>41</td>\n",
       "      <td>1</td>\n",
       "      <td>83807.86</td>\n",
       "      <td>1</td>\n",
       "      <td>0</td>\n",
       "      <td>1</td>\n",
       "      <td>112542.58</td>\n",
       "      <td>0</td>\n",
       "    </tr>\n",
       "    <tr>\n",
       "      <th>2</th>\n",
       "      <td>3</td>\n",
       "      <td>15619304</td>\n",
       "      <td>Onio</td>\n",
       "      <td>502</td>\n",
       "      <td>France</td>\n",
       "      <td>Female</td>\n",
       "      <td>42</td>\n",
       "      <td>8</td>\n",
       "      <td>159660.80</td>\n",
       "      <td>3</td>\n",
       "      <td>1</td>\n",
       "      <td>0</td>\n",
       "      <td>113931.57</td>\n",
       "      <td>1</td>\n",
       "    </tr>\n",
       "    <tr>\n",
       "      <th>3</th>\n",
       "      <td>4</td>\n",
       "      <td>15701354</td>\n",
       "      <td>Boni</td>\n",
       "      <td>699</td>\n",
       "      <td>France</td>\n",
       "      <td>Female</td>\n",
       "      <td>39</td>\n",
       "      <td>1</td>\n",
       "      <td>0.00</td>\n",
       "      <td>2</td>\n",
       "      <td>0</td>\n",
       "      <td>0</td>\n",
       "      <td>93826.63</td>\n",
       "      <td>0</td>\n",
       "    </tr>\n",
       "    <tr>\n",
       "      <th>4</th>\n",
       "      <td>5</td>\n",
       "      <td>15737888</td>\n",
       "      <td>Mitchell</td>\n",
       "      <td>850</td>\n",
       "      <td>Spain</td>\n",
       "      <td>Female</td>\n",
       "      <td>43</td>\n",
       "      <td>2</td>\n",
       "      <td>125510.82</td>\n",
       "      <td>1</td>\n",
       "      <td>1</td>\n",
       "      <td>1</td>\n",
       "      <td>79084.10</td>\n",
       "      <td>0</td>\n",
       "    </tr>\n",
       "  </tbody>\n",
       "</table>\n",
       "</div>"
      ],
      "text/plain": [
       "   RowNumber  CustomerId   Surname  CreditScore Geography  Gender  Age  \\\n",
       "0          1    15634602  Hargrave          619    France  Female   42   \n",
       "1          2    15647311      Hill          608     Spain  Female   41   \n",
       "2          3    15619304      Onio          502    France  Female   42   \n",
       "3          4    15701354      Boni          699    France  Female   39   \n",
       "4          5    15737888  Mitchell          850     Spain  Female   43   \n",
       "\n",
       "   Tenure    Balance  NumOfProducts  HasCrCard  IsActiveMember  \\\n",
       "0       2       0.00              1          1               1   \n",
       "1       1   83807.86              1          0               1   \n",
       "2       8  159660.80              3          1               0   \n",
       "3       1       0.00              2          0               0   \n",
       "4       2  125510.82              1          1               1   \n",
       "\n",
       "   EstimatedSalary  Exited  \n",
       "0        101348.88       1  \n",
       "1        112542.58       0  \n",
       "2        113931.57       1  \n",
       "3         93826.63       0  \n",
       "4         79084.10       0  "
      ]
     },
     "execution_count": 4,
     "metadata": {},
     "output_type": "execute_result"
    }
   ],
   "source": [
    "dataset = pd.read_csv('Churn_Modelling.csv')\n",
    "dataset.head()"
   ]
  },
  {
   "cell_type": "code",
   "execution_count": 5,
   "id": "2fce4d6a",
   "metadata": {},
   "outputs": [],
   "source": [
    "## Divide the dataset into independent and dependent dataset\n",
    "X = dataset.iloc[:,3:13] # Skip the first 3 cloumns as they are not relavent features (RowNumber, CustomerId, Surname)\n",
    "y = dataset.iloc[:,13]"
   ]
  },
  {
   "cell_type": "code",
   "execution_count": 6,
   "id": "4b31eda5",
   "metadata": {},
   "outputs": [
    {
     "data": {
      "text/html": [
       "<div>\n",
       "<style scoped>\n",
       "    .dataframe tbody tr th:only-of-type {\n",
       "        vertical-align: middle;\n",
       "    }\n",
       "\n",
       "    .dataframe tbody tr th {\n",
       "        vertical-align: top;\n",
       "    }\n",
       "\n",
       "    .dataframe thead th {\n",
       "        text-align: right;\n",
       "    }\n",
       "</style>\n",
       "<table border=\"1\" class=\"dataframe\">\n",
       "  <thead>\n",
       "    <tr style=\"text-align: right;\">\n",
       "      <th></th>\n",
       "      <th>CreditScore</th>\n",
       "      <th>Geography</th>\n",
       "      <th>Gender</th>\n",
       "      <th>Age</th>\n",
       "      <th>Tenure</th>\n",
       "      <th>Balance</th>\n",
       "      <th>NumOfProducts</th>\n",
       "      <th>HasCrCard</th>\n",
       "      <th>IsActiveMember</th>\n",
       "      <th>EstimatedSalary</th>\n",
       "    </tr>\n",
       "  </thead>\n",
       "  <tbody>\n",
       "    <tr>\n",
       "      <th>0</th>\n",
       "      <td>619</td>\n",
       "      <td>France</td>\n",
       "      <td>Female</td>\n",
       "      <td>42</td>\n",
       "      <td>2</td>\n",
       "      <td>0.00</td>\n",
       "      <td>1</td>\n",
       "      <td>1</td>\n",
       "      <td>1</td>\n",
       "      <td>101348.88</td>\n",
       "    </tr>\n",
       "    <tr>\n",
       "      <th>1</th>\n",
       "      <td>608</td>\n",
       "      <td>Spain</td>\n",
       "      <td>Female</td>\n",
       "      <td>41</td>\n",
       "      <td>1</td>\n",
       "      <td>83807.86</td>\n",
       "      <td>1</td>\n",
       "      <td>0</td>\n",
       "      <td>1</td>\n",
       "      <td>112542.58</td>\n",
       "    </tr>\n",
       "    <tr>\n",
       "      <th>2</th>\n",
       "      <td>502</td>\n",
       "      <td>France</td>\n",
       "      <td>Female</td>\n",
       "      <td>42</td>\n",
       "      <td>8</td>\n",
       "      <td>159660.80</td>\n",
       "      <td>3</td>\n",
       "      <td>1</td>\n",
       "      <td>0</td>\n",
       "      <td>113931.57</td>\n",
       "    </tr>\n",
       "    <tr>\n",
       "      <th>3</th>\n",
       "      <td>699</td>\n",
       "      <td>France</td>\n",
       "      <td>Female</td>\n",
       "      <td>39</td>\n",
       "      <td>1</td>\n",
       "      <td>0.00</td>\n",
       "      <td>2</td>\n",
       "      <td>0</td>\n",
       "      <td>0</td>\n",
       "      <td>93826.63</td>\n",
       "    </tr>\n",
       "    <tr>\n",
       "      <th>4</th>\n",
       "      <td>850</td>\n",
       "      <td>Spain</td>\n",
       "      <td>Female</td>\n",
       "      <td>43</td>\n",
       "      <td>2</td>\n",
       "      <td>125510.82</td>\n",
       "      <td>1</td>\n",
       "      <td>1</td>\n",
       "      <td>1</td>\n",
       "      <td>79084.10</td>\n",
       "    </tr>\n",
       "  </tbody>\n",
       "</table>\n",
       "</div>"
      ],
      "text/plain": [
       "   CreditScore Geography  Gender  Age  Tenure    Balance  NumOfProducts  \\\n",
       "0          619    France  Female   42       2       0.00              1   \n",
       "1          608     Spain  Female   41       1   83807.86              1   \n",
       "2          502    France  Female   42       8  159660.80              3   \n",
       "3          699    France  Female   39       1       0.00              2   \n",
       "4          850     Spain  Female   43       2  125510.82              1   \n",
       "\n",
       "   HasCrCard  IsActiveMember  EstimatedSalary  \n",
       "0          1               1        101348.88  \n",
       "1          0               1        112542.58  \n",
       "2          1               0        113931.57  \n",
       "3          0               0         93826.63  \n",
       "4          1               1         79084.10  "
      ]
     },
     "execution_count": 6,
     "metadata": {},
     "output_type": "execute_result"
    }
   ],
   "source": [
    "X.head()"
   ]
  },
  {
   "cell_type": "markdown",
   "id": "c82fe91b",
   "metadata": {},
   "source": [
    "## Feature Engineering\n",
    "Handle categorical features"
   ]
  },
  {
   "cell_type": "code",
   "execution_count": 7,
   "id": "302b4ff5",
   "metadata": {},
   "outputs": [],
   "source": [
    "geography=pd.get_dummies(X['Geography'], drop_first=True)\n",
    "gender=pd.get_dummies(X['Gender'], drop_first=True)"
   ]
  },
  {
   "cell_type": "code",
   "execution_count": 8,
   "id": "67817b99",
   "metadata": {},
   "outputs": [
    {
     "data": {
      "text/html": [
       "<div>\n",
       "<style scoped>\n",
       "    .dataframe tbody tr th:only-of-type {\n",
       "        vertical-align: middle;\n",
       "    }\n",
       "\n",
       "    .dataframe tbody tr th {\n",
       "        vertical-align: top;\n",
       "    }\n",
       "\n",
       "    .dataframe thead th {\n",
       "        text-align: right;\n",
       "    }\n",
       "</style>\n",
       "<table border=\"1\" class=\"dataframe\">\n",
       "  <thead>\n",
       "    <tr style=\"text-align: right;\">\n",
       "      <th></th>\n",
       "      <th>CreditScore</th>\n",
       "      <th>Age</th>\n",
       "      <th>Tenure</th>\n",
       "      <th>Balance</th>\n",
       "      <th>NumOfProducts</th>\n",
       "      <th>HasCrCard</th>\n",
       "      <th>IsActiveMember</th>\n",
       "      <th>EstimatedSalary</th>\n",
       "    </tr>\n",
       "  </thead>\n",
       "  <tbody>\n",
       "    <tr>\n",
       "      <th>0</th>\n",
       "      <td>619</td>\n",
       "      <td>42</td>\n",
       "      <td>2</td>\n",
       "      <td>0.00</td>\n",
       "      <td>1</td>\n",
       "      <td>1</td>\n",
       "      <td>1</td>\n",
       "      <td>101348.88</td>\n",
       "    </tr>\n",
       "    <tr>\n",
       "      <th>1</th>\n",
       "      <td>608</td>\n",
       "      <td>41</td>\n",
       "      <td>1</td>\n",
       "      <td>83807.86</td>\n",
       "      <td>1</td>\n",
       "      <td>0</td>\n",
       "      <td>1</td>\n",
       "      <td>112542.58</td>\n",
       "    </tr>\n",
       "    <tr>\n",
       "      <th>2</th>\n",
       "      <td>502</td>\n",
       "      <td>42</td>\n",
       "      <td>8</td>\n",
       "      <td>159660.80</td>\n",
       "      <td>3</td>\n",
       "      <td>1</td>\n",
       "      <td>0</td>\n",
       "      <td>113931.57</td>\n",
       "    </tr>\n",
       "    <tr>\n",
       "      <th>3</th>\n",
       "      <td>699</td>\n",
       "      <td>39</td>\n",
       "      <td>1</td>\n",
       "      <td>0.00</td>\n",
       "      <td>2</td>\n",
       "      <td>0</td>\n",
       "      <td>0</td>\n",
       "      <td>93826.63</td>\n",
       "    </tr>\n",
       "    <tr>\n",
       "      <th>4</th>\n",
       "      <td>850</td>\n",
       "      <td>43</td>\n",
       "      <td>2</td>\n",
       "      <td>125510.82</td>\n",
       "      <td>1</td>\n",
       "      <td>1</td>\n",
       "      <td>1</td>\n",
       "      <td>79084.10</td>\n",
       "    </tr>\n",
       "  </tbody>\n",
       "</table>\n",
       "</div>"
      ],
      "text/plain": [
       "   CreditScore  Age  Tenure    Balance  NumOfProducts  HasCrCard  \\\n",
       "0          619   42       2       0.00              1          1   \n",
       "1          608   41       1   83807.86              1          0   \n",
       "2          502   42       8  159660.80              3          1   \n",
       "3          699   39       1       0.00              2          0   \n",
       "4          850   43       2  125510.82              1          1   \n",
       "\n",
       "   IsActiveMember  EstimatedSalary  \n",
       "0               1        101348.88  \n",
       "1               1        112542.58  \n",
       "2               0        113931.57  \n",
       "3               0         93826.63  \n",
       "4               1         79084.10  "
      ]
     },
     "execution_count": 8,
     "metadata": {},
     "output_type": "execute_result"
    }
   ],
   "source": [
    "# Concatinate these variables with dataframe and drop the existing categorical features from dataset\n",
    "X = X.drop(['Gender', 'Geography'], axis=1)\n",
    "X.head()"
   ]
  },
  {
   "cell_type": "code",
   "execution_count": 9,
   "id": "321d0e6d",
   "metadata": {},
   "outputs": [],
   "source": [
    "X = pd.concat([X, geography, gender], axis=1)"
   ]
  },
  {
   "cell_type": "code",
   "execution_count": 10,
   "id": "c4428dbf",
   "metadata": {},
   "outputs": [
    {
     "data": {
      "text/html": [
       "<div>\n",
       "<style scoped>\n",
       "    .dataframe tbody tr th:only-of-type {\n",
       "        vertical-align: middle;\n",
       "    }\n",
       "\n",
       "    .dataframe tbody tr th {\n",
       "        vertical-align: top;\n",
       "    }\n",
       "\n",
       "    .dataframe thead th {\n",
       "        text-align: right;\n",
       "    }\n",
       "</style>\n",
       "<table border=\"1\" class=\"dataframe\">\n",
       "  <thead>\n",
       "    <tr style=\"text-align: right;\">\n",
       "      <th></th>\n",
       "      <th>CreditScore</th>\n",
       "      <th>Age</th>\n",
       "      <th>Tenure</th>\n",
       "      <th>Balance</th>\n",
       "      <th>NumOfProducts</th>\n",
       "      <th>HasCrCard</th>\n",
       "      <th>IsActiveMember</th>\n",
       "      <th>EstimatedSalary</th>\n",
       "      <th>Germany</th>\n",
       "      <th>Spain</th>\n",
       "      <th>Male</th>\n",
       "    </tr>\n",
       "  </thead>\n",
       "  <tbody>\n",
       "    <tr>\n",
       "      <th>0</th>\n",
       "      <td>619</td>\n",
       "      <td>42</td>\n",
       "      <td>2</td>\n",
       "      <td>0.00</td>\n",
       "      <td>1</td>\n",
       "      <td>1</td>\n",
       "      <td>1</td>\n",
       "      <td>101348.88</td>\n",
       "      <td>0</td>\n",
       "      <td>0</td>\n",
       "      <td>0</td>\n",
       "    </tr>\n",
       "    <tr>\n",
       "      <th>1</th>\n",
       "      <td>608</td>\n",
       "      <td>41</td>\n",
       "      <td>1</td>\n",
       "      <td>83807.86</td>\n",
       "      <td>1</td>\n",
       "      <td>0</td>\n",
       "      <td>1</td>\n",
       "      <td>112542.58</td>\n",
       "      <td>0</td>\n",
       "      <td>1</td>\n",
       "      <td>0</td>\n",
       "    </tr>\n",
       "    <tr>\n",
       "      <th>2</th>\n",
       "      <td>502</td>\n",
       "      <td>42</td>\n",
       "      <td>8</td>\n",
       "      <td>159660.80</td>\n",
       "      <td>3</td>\n",
       "      <td>1</td>\n",
       "      <td>0</td>\n",
       "      <td>113931.57</td>\n",
       "      <td>0</td>\n",
       "      <td>0</td>\n",
       "      <td>0</td>\n",
       "    </tr>\n",
       "    <tr>\n",
       "      <th>3</th>\n",
       "      <td>699</td>\n",
       "      <td>39</td>\n",
       "      <td>1</td>\n",
       "      <td>0.00</td>\n",
       "      <td>2</td>\n",
       "      <td>0</td>\n",
       "      <td>0</td>\n",
       "      <td>93826.63</td>\n",
       "      <td>0</td>\n",
       "      <td>0</td>\n",
       "      <td>0</td>\n",
       "    </tr>\n",
       "    <tr>\n",
       "      <th>4</th>\n",
       "      <td>850</td>\n",
       "      <td>43</td>\n",
       "      <td>2</td>\n",
       "      <td>125510.82</td>\n",
       "      <td>1</td>\n",
       "      <td>1</td>\n",
       "      <td>1</td>\n",
       "      <td>79084.10</td>\n",
       "      <td>0</td>\n",
       "      <td>1</td>\n",
       "      <td>0</td>\n",
       "    </tr>\n",
       "  </tbody>\n",
       "</table>\n",
       "</div>"
      ],
      "text/plain": [
       "   CreditScore  Age  Tenure    Balance  NumOfProducts  HasCrCard  \\\n",
       "0          619   42       2       0.00              1          1   \n",
       "1          608   41       1   83807.86              1          0   \n",
       "2          502   42       8  159660.80              3          1   \n",
       "3          699   39       1       0.00              2          0   \n",
       "4          850   43       2  125510.82              1          1   \n",
       "\n",
       "   IsActiveMember  EstimatedSalary  Germany  Spain  Male  \n",
       "0               1        101348.88        0      0     0  \n",
       "1               1        112542.58        0      1     0  \n",
       "2               0        113931.57        0      0     0  \n",
       "3               0         93826.63        0      0     0  \n",
       "4               1         79084.10        0      1     0  "
      ]
     },
     "execution_count": 10,
     "metadata": {},
     "output_type": "execute_result"
    }
   ],
   "source": [
    "X.head()"
   ]
  },
  {
   "cell_type": "code",
   "execution_count": 11,
   "id": "f54701af",
   "metadata": {},
   "outputs": [],
   "source": [
    "# Split dataset into train test set\n",
    "from sklearn.model_selection import train_test_split\n",
    "X_train, X_test, y_train, y_test = train_test_split(X, y, test_size=0.2, random_state=0)"
   ]
  },
  {
   "cell_type": "markdown",
   "id": "f02b91c5",
   "metadata": {},
   "source": [
    "### Feature scaling\n",
    "fit_transform() is used on the training data so that we can scale the training data and also learn the scaling parameters of that data. Here, the model built by us will learn the mean and variance of the features of the training set. These learned parameters are then used to scale our test data.\n",
    "\n",
    "Also to avoid data leakage we dont use fit_transform on test data. Data leakage is one of the major problems in machine learning which occurs when the data that we are using to train an ML algorithm has the information the model is trying to predict. It is a situation that causes unpredictable and bad prediction outcomes after model deployment."
   ]
  },
  {
   "cell_type": "code",
   "execution_count": 12,
   "id": "dbfde7fb",
   "metadata": {},
   "outputs": [],
   "source": [
    "from sklearn.preprocessing import StandardScaler\n",
    "sc = StandardScaler()\n",
    "X_train = sc.fit_transform(X_train)\n",
    "X_test = sc.transform(X_test)"
   ]
  },
  {
   "cell_type": "code",
   "execution_count": 13,
   "id": "c0c20c1e",
   "metadata": {},
   "outputs": [
    {
     "data": {
      "text/plain": [
       "array([[ 0.16958176, -0.46460796,  0.00666099, ..., -0.5698444 ,\n",
       "         1.74309049, -1.09168714],\n",
       "       [-2.30455945,  0.30102557, -1.37744033, ...,  1.75486502,\n",
       "        -0.57369368,  0.91601335],\n",
       "       [-1.19119591, -0.94312892, -1.031415  , ..., -0.5698444 ,\n",
       "        -0.57369368, -1.09168714],\n",
       "       ...,\n",
       "       [ 0.9015152 , -0.36890377,  0.00666099, ..., -0.5698444 ,\n",
       "        -0.57369368,  0.91601335],\n",
       "       [-0.62420521, -0.08179119,  1.39076231, ..., -0.5698444 ,\n",
       "         1.74309049, -1.09168714],\n",
       "       [-0.28401079,  0.87525072, -1.37744033, ...,  1.75486502,\n",
       "        -0.57369368, -1.09168714]])"
      ]
     },
     "execution_count": 13,
     "metadata": {},
     "output_type": "execute_result"
    }
   ],
   "source": [
    "X_train"
   ]
  },
  {
   "cell_type": "code",
   "execution_count": 14,
   "id": "0c7c0390",
   "metadata": {},
   "outputs": [
    {
     "data": {
      "text/plain": [
       "array([[-0.55204276, -0.36890377,  1.04473698, ...,  1.75486502,\n",
       "        -0.57369368, -1.09168714],\n",
       "       [-1.31490297,  0.10961719, -1.031415  , ..., -0.5698444 ,\n",
       "        -0.57369368, -1.09168714],\n",
       "       [ 0.57162971,  0.30102557,  1.04473698, ..., -0.5698444 ,\n",
       "         1.74309049, -1.09168714],\n",
       "       ...,\n",
       "       [-0.74791227, -0.27319958, -1.37744033, ..., -0.5698444 ,\n",
       "         1.74309049,  0.91601335],\n",
       "       [-0.00566991, -0.46460796, -0.33936434, ...,  1.75486502,\n",
       "        -0.57369368,  0.91601335],\n",
       "       [-0.79945688, -0.84742473,  1.04473698, ...,  1.75486502,\n",
       "        -0.57369368,  0.91601335]])"
      ]
     },
     "execution_count": 14,
     "metadata": {},
     "output_type": "execute_result"
    }
   ],
   "source": [
    "X_test"
   ]
  },
  {
   "cell_type": "code",
   "execution_count": 15,
   "id": "526bb709",
   "metadata": {},
   "outputs": [
    {
     "data": {
      "text/plain": [
       "(8000, 11)"
      ]
     },
     "execution_count": 15,
     "metadata": {},
     "output_type": "execute_result"
    }
   ],
   "source": [
    "X_train.shape"
   ]
  },
  {
   "cell_type": "markdown",
   "id": "16aa54e6",
   "metadata": {},
   "source": [
    "## Create ANN"
   ]
  },
  {
   "cell_type": "code",
   "execution_count": 16,
   "id": "d60babeb",
   "metadata": {},
   "outputs": [],
   "source": [
    "from tensorflow.keras.models import Sequential\n",
    "from tensorflow.keras.layers import Dense\n",
    "from tensorflow.keras.layers import LeakyReLU, PReLU, ELU, ReLU\n",
    "from tensorflow.keras.layers import Dropout"
   ]
  },
  {
   "cell_type": "code",
   "execution_count": 61,
   "id": "3fb5dc15",
   "metadata": {},
   "outputs": [],
   "source": [
    "## Initialize ANN\n",
    "classifier = Sequential()"
   ]
  },
  {
   "cell_type": "code",
   "execution_count": 62,
   "id": "74edd187",
   "metadata": {},
   "outputs": [],
   "source": [
    "## Add input layer\n",
    "classifier.add(Dense(units=11, activation='relu')) # Here units are the number of input features we pass to the ANN"
   ]
  },
  {
   "cell_type": "code",
   "execution_count": 63,
   "id": "1af320de",
   "metadata": {},
   "outputs": [],
   "source": [
    "## Adding the first Hidden Layer\n",
    "classifier.add(Dense(units=7, activation='relu'))\n",
    "classifier.add(Dropout(0.2))"
   ]
  },
  {
   "cell_type": "code",
   "execution_count": 64,
   "id": "7da68d85",
   "metadata": {},
   "outputs": [],
   "source": [
    "## Adding the second Hidden Layer\n",
    "classifier.add(Dense(units=6, activation='relu'))\n",
    "classifier.add(Dropout(0.3 ))"
   ]
  },
  {
   "cell_type": "code",
   "execution_count": 65,
   "id": "fac743ae",
   "metadata": {},
   "outputs": [],
   "source": [
    "## Adding the Output Layer\n",
    "classifier.add(Dense(units=1, activation='sigmoid'))"
   ]
  },
  {
   "cell_type": "code",
   "execution_count": 66,
   "id": "f452d1fb",
   "metadata": {},
   "outputs": [],
   "source": [
    "classifier.compile(optimizer='adam', loss='binary_crossentropy', metrics=['accuracy'])"
   ]
  },
  {
   "cell_type": "code",
   "execution_count": 67,
   "id": "2c5e1990",
   "metadata": {},
   "outputs": [],
   "source": [
    "## We can also change the learning rate as folows\n",
    "## import tensorflow\n",
    "## opt = tensorflow.keras.optimizers.Adam(learning_rate=0.01)\n",
    "## And use it in in the classifier as:\n",
    "## classifier.compile(optimizer=opt, loss='binary_crossentropy', metrics=['accuracy'])"
   ]
  },
  {
   "cell_type": "code",
   "execution_count": 68,
   "id": "54628461",
   "metadata": {},
   "outputs": [],
   "source": [
    "## Early stopping\n",
    "import tensorflow as ts\n",
    "early_stopping = tf.keras.callbacks.EarlyStopping(\n",
    "    monitor=\"val_loss\",\n",
    "    min_delta=0.0001,\n",
    "    patience=20,\n",
    "    verbose=1,\n",
    "    mode=\"auto\",\n",
    "    baseline=None,\n",
    "    restore_best_weights=False,\n",
    ")"
   ]
  },
  {
   "cell_type": "code",
   "execution_count": 69,
   "id": "83d6cc69",
   "metadata": {},
   "outputs": [
    {
     "name": "stdout",
     "output_type": "stream",
     "text": [
      "Epoch 1/1000\n",
      "536/536 [==============================] - 3s 3ms/step - loss: 0.5873 - accuracy: 0.7236 - val_loss: 0.4836 - val_accuracy: 0.7955\n",
      "Epoch 2/1000\n",
      "536/536 [==============================] - 1s 2ms/step - loss: 0.4817 - accuracy: 0.7977 - val_loss: 0.4374 - val_accuracy: 0.7952\n",
      "Epoch 3/1000\n",
      "536/536 [==============================] - 1s 2ms/step - loss: 0.4545 - accuracy: 0.8074 - val_loss: 0.4237 - val_accuracy: 0.8020\n",
      "Epoch 4/1000\n",
      "536/536 [==============================] - 1s 2ms/step - loss: 0.4426 - accuracy: 0.8117 - val_loss: 0.4186 - val_accuracy: 0.8111\n",
      "Epoch 5/1000\n",
      "536/536 [==============================] - 1s 2ms/step - loss: 0.4343 - accuracy: 0.8121 - val_loss: 0.4125 - val_accuracy: 0.8148\n",
      "Epoch 6/1000\n",
      "536/536 [==============================] - 1s 2ms/step - loss: 0.4294 - accuracy: 0.8184 - val_loss: 0.4073 - val_accuracy: 0.8213\n",
      "Epoch 7/1000\n",
      "536/536 [==============================] - 1s 2ms/step - loss: 0.4168 - accuracy: 0.8209 - val_loss: 0.3965 - val_accuracy: 0.8349\n",
      "Epoch 8/1000\n",
      "536/536 [==============================] - 1s 2ms/step - loss: 0.4046 - accuracy: 0.8291 - val_loss: 0.3906 - val_accuracy: 0.8383\n",
      "Epoch 9/1000\n",
      "536/536 [==============================] - 1s 2ms/step - loss: 0.4014 - accuracy: 0.8315 - val_loss: 0.3840 - val_accuracy: 0.8379\n",
      "Epoch 10/1000\n",
      "536/536 [==============================] - 1s 3ms/step - loss: 0.3906 - accuracy: 0.8377 - val_loss: 0.3774 - val_accuracy: 0.8455\n",
      "Epoch 11/1000\n",
      "536/536 [==============================] - 1s 2ms/step - loss: 0.3851 - accuracy: 0.8405 - val_loss: 0.3746 - val_accuracy: 0.8466\n",
      "Epoch 12/1000\n",
      "536/536 [==============================] - 1s 2ms/step - loss: 0.3769 - accuracy: 0.8440 - val_loss: 0.3714 - val_accuracy: 0.8501\n",
      "Epoch 13/1000\n",
      "536/536 [==============================] - 1s 2ms/step - loss: 0.3746 - accuracy: 0.8468 - val_loss: 0.3673 - val_accuracy: 0.8501\n",
      "Epoch 14/1000\n",
      "536/536 [==============================] - 1s 2ms/step - loss: 0.3740 - accuracy: 0.8466 - val_loss: 0.3656 - val_accuracy: 0.8501\n",
      "Epoch 15/1000\n",
      "536/536 [==============================] - 1s 2ms/step - loss: 0.3701 - accuracy: 0.8494 - val_loss: 0.3645 - val_accuracy: 0.8489\n",
      "Epoch 16/1000\n",
      "536/536 [==============================] - 1s 2ms/step - loss: 0.3675 - accuracy: 0.8455 - val_loss: 0.3630 - val_accuracy: 0.8512\n",
      "Epoch 17/1000\n",
      "536/536 [==============================] - 1s 2ms/step - loss: 0.3663 - accuracy: 0.8539 - val_loss: 0.3621 - val_accuracy: 0.8504\n",
      "Epoch 18/1000\n",
      "536/536 [==============================] - 1s 3ms/step - loss: 0.3645 - accuracy: 0.8503 - val_loss: 0.3620 - val_accuracy: 0.8508\n",
      "Epoch 19/1000\n",
      "536/536 [==============================] - 1s 2ms/step - loss: 0.3577 - accuracy: 0.8587 - val_loss: 0.3599 - val_accuracy: 0.8508\n",
      "Epoch 20/1000\n",
      "536/536 [==============================] - 1s 2ms/step - loss: 0.3604 - accuracy: 0.8502 - val_loss: 0.3604 - val_accuracy: 0.8508\n",
      "Epoch 21/1000\n",
      "536/536 [==============================] - 1s 3ms/step - loss: 0.3559 - accuracy: 0.8513 - val_loss: 0.3607 - val_accuracy: 0.8535\n",
      "Epoch 22/1000\n",
      "536/536 [==============================] - 1s 2ms/step - loss: 0.3602 - accuracy: 0.8558 - val_loss: 0.3610 - val_accuracy: 0.8489\n",
      "Epoch 23/1000\n",
      "536/536 [==============================] - 1s 2ms/step - loss: 0.3557 - accuracy: 0.8537 - val_loss: 0.3606 - val_accuracy: 0.8535\n",
      "Epoch 24/1000\n",
      "536/536 [==============================] - 1s 2ms/step - loss: 0.3559 - accuracy: 0.8531 - val_loss: 0.3593 - val_accuracy: 0.8527\n",
      "Epoch 25/1000\n",
      "536/536 [==============================] - 1s 2ms/step - loss: 0.3584 - accuracy: 0.8528 - val_loss: 0.3570 - val_accuracy: 0.8565\n",
      "Epoch 26/1000\n",
      "536/536 [==============================] - 1s 2ms/step - loss: 0.3584 - accuracy: 0.8537 - val_loss: 0.3582 - val_accuracy: 0.8546\n",
      "Epoch 27/1000\n",
      "536/536 [==============================] - 1s 2ms/step - loss: 0.3513 - accuracy: 0.8587 - val_loss: 0.3578 - val_accuracy: 0.8538\n",
      "Epoch 28/1000\n",
      "536/536 [==============================] - 1s 2ms/step - loss: 0.3500 - accuracy: 0.8584 - val_loss: 0.3578 - val_accuracy: 0.8569\n",
      "Epoch 29/1000\n",
      "536/536 [==============================] - 1s 2ms/step - loss: 0.3585 - accuracy: 0.8537 - val_loss: 0.3577 - val_accuracy: 0.8550\n",
      "Epoch 30/1000\n",
      "536/536 [==============================] - 1s 2ms/step - loss: 0.3568 - accuracy: 0.8505 - val_loss: 0.3592 - val_accuracy: 0.8535\n",
      "Epoch 31/1000\n",
      "536/536 [==============================] - 1s 2ms/step - loss: 0.3573 - accuracy: 0.8571 - val_loss: 0.3594 - val_accuracy: 0.8538\n",
      "Epoch 32/1000\n",
      "536/536 [==============================] - 1s 2ms/step - loss: 0.3580 - accuracy: 0.8550 - val_loss: 0.3593 - val_accuracy: 0.8535\n",
      "Epoch 33/1000\n",
      "536/536 [==============================] - 1s 2ms/step - loss: 0.3506 - accuracy: 0.8589 - val_loss: 0.3589 - val_accuracy: 0.8531\n",
      "Epoch 34/1000\n",
      "536/536 [==============================] - 1s 2ms/step - loss: 0.3556 - accuracy: 0.8511 - val_loss: 0.3603 - val_accuracy: 0.8497\n",
      "Epoch 35/1000\n",
      "536/536 [==============================] - 1s 2ms/step - loss: 0.3525 - accuracy: 0.8554 - val_loss: 0.3624 - val_accuracy: 0.8516\n",
      "Epoch 36/1000\n",
      "536/536 [==============================] - 1s 3ms/step - loss: 0.3524 - accuracy: 0.8556 - val_loss: 0.3580 - val_accuracy: 0.8554\n",
      "Epoch 37/1000\n",
      "536/536 [==============================] - 1s 2ms/step - loss: 0.3585 - accuracy: 0.8509 - val_loss: 0.3589 - val_accuracy: 0.8535\n",
      "Epoch 38/1000\n",
      "536/536 [==============================] - 1s 2ms/step - loss: 0.3483 - accuracy: 0.8567 - val_loss: 0.3592 - val_accuracy: 0.8546\n",
      "Epoch 39/1000\n",
      "536/536 [==============================] - 1s 2ms/step - loss: 0.3507 - accuracy: 0.8548 - val_loss: 0.3583 - val_accuracy: 0.8554\n",
      "Epoch 40/1000\n",
      "536/536 [==============================] - 1s 2ms/step - loss: 0.3537 - accuracy: 0.8502 - val_loss: 0.3582 - val_accuracy: 0.8523\n",
      "Epoch 41/1000\n",
      "536/536 [==============================] - 1s 2ms/step - loss: 0.3615 - accuracy: 0.8530 - val_loss: 0.3587 - val_accuracy: 0.8546\n",
      "Epoch 42/1000\n",
      "536/536 [==============================] - 1s 2ms/step - loss: 0.3524 - accuracy: 0.8580 - val_loss: 0.3571 - val_accuracy: 0.8554\n",
      "Epoch 43/1000\n",
      "536/536 [==============================] - 1s 2ms/step - loss: 0.3512 - accuracy: 0.8595 - val_loss: 0.3586 - val_accuracy: 0.8531\n",
      "Epoch 44/1000\n",
      "536/536 [==============================] - 1s 2ms/step - loss: 0.3529 - accuracy: 0.8576 - val_loss: 0.3577 - val_accuracy: 0.8531\n",
      "Epoch 45/1000\n",
      "536/536 [==============================] - 1s 3ms/step - loss: 0.3460 - accuracy: 0.8604 - val_loss: 0.3572 - val_accuracy: 0.8584\n",
      "Epoch 45: early stopping\n"
     ]
    }
   ],
   "source": [
    "model_history = classifier.fit(X_train, y_train, validation_split= 0.33, batch_size=10, epochs=1000, callbacks=early_stopping)"
   ]
  },
  {
   "cell_type": "code",
   "execution_count": 70,
   "id": "f3c82e64",
   "metadata": {},
   "outputs": [
    {
     "data": {
      "text/plain": [
       "dict_keys(['loss', 'accuracy', 'val_loss', 'val_accuracy'])"
      ]
     },
     "execution_count": 70,
     "metadata": {},
     "output_type": "execute_result"
    }
   ],
   "source": [
    "model_history.history.keys()"
   ]
  },
  {
   "cell_type": "code",
   "execution_count": 71,
   "id": "7830a08f",
   "metadata": {},
   "outputs": [
    {
     "data": {
      "image/png": "[encoded data removed]",
      "text/plain": [
       "<Figure size 432x288 with 1 Axes>"
      ]
     },
     "metadata": {
      "needs_background": "light"
     },
     "output_type": "display_data"
    }
   ],
   "source": [
    "# Summarize history for accuracy\n",
    "plt.plot(model_history.history['accuracy'])\n",
    "plt.plot(model_history.history['val_accuracy'])\n",
    "plt.title('model accuracy')\n",
    "plt.ylabel('accuracy')\n",
    "plt.xlabel('epoch')\n",
    "plt.legend(['train', 'test'], loc='upper left')\n",
    "plt.show()"
   ]
  },
  {
   "cell_type": "code",
   "execution_count": 72,
   "id": "52034ec1",
   "metadata": {},
   "outputs": [
    {
     "data": {
      "image/png": "[encoded data removed]",
      "text/plain": [
       "<Figure size 432x288 with 1 Axes>"
      ]
     },
     "metadata": {
      "needs_background": "light"
     },
     "output_type": "display_data"
    }
   ],
   "source": [
    "plt.plot(model_history.history['loss'])\n",
    "plt.plot(model_history.history['val_loss'])\n",
    "plt.title('model loss')\n",
    "plt.ylabel('accuracy')\n",
    "plt.xlabel('epoch')\n",
    "plt.legend(['train', 'test'], loc='upper left')\n",
    "plt.show()"
   ]
  },
  {
   "cell_type": "code",
   "execution_count": 73,
   "id": "055c8568",
   "metadata": {},
   "outputs": [
    {
     "name": "stdout",
     "output_type": "stream",
     "text": [
      "63/63 [==============================] - 0s 1ms/step\n"
     ]
    }
   ],
   "source": [
    "## Prediction and evaluating the model\n",
    "y_pred = classifier.predict(X_test)\n",
    "y_pred = (y_pred >= 0.5)"
   ]
  },
  {
   "cell_type": "code",
   "execution_count": 74,
   "id": "5186b794",
   "metadata": {},
   "outputs": [],
   "source": [
    "## Make the confusion matrix\n",
    "from sklearn.metrics import confusion_matrix\n",
    "cm=confusion_matrix(y_test, y_pred)"
   ]
  },
  {
   "cell_type": "code",
   "execution_count": 75,
   "id": "1f919e13",
   "metadata": {},
   "outputs": [
    {
     "data": {
      "text/plain": [
       "array([[1532,   63],\n",
       "       [ 216,  189]], dtype=int64)"
      ]
     },
     "execution_count": 75,
     "metadata": {},
     "output_type": "execute_result"
    }
   ],
   "source": [
    "cm"
   ]
  },
  {
   "cell_type": "code",
   "execution_count": 76,
   "id": "1e6ab650",
   "metadata": {},
   "outputs": [],
   "source": [
    "## Calculate the accuracy\n",
    "from sklearn.metrics import accuracy_score\n",
    "score = accuracy_score(y_pred, y_test)"
   ]
  },
  {
   "cell_type": "code",
   "execution_count": 77,
   "id": "5654f093",
   "metadata": {},
   "outputs": [
    {
     "data": {
      "text/plain": [
       "0.8605"
      ]
     },
     "execution_count": 77,
     "metadata": {},
     "output_type": "execute_result"
    }
   ],
   "source": [
    "score"
   ]
  },
  {
   "cell_type": "code",
   "execution_count": 78,
   "id": "5d6489a1",
   "metadata": {},
   "outputs": [
    {
     "data": {
      "text/plain": [
       "[array([[-1.88391022e-02,  1.37144960e-02, -8.94681960e-02,\n",
       "          3.21191028e-02,  2.34255977e-02,  4.13410753e-01,\n",
       "          2.95145899e-01, -2.78176308e-01, -6.87913820e-02,\n",
       "          7.57634640e-02, -4.77052145e-02],\n",
       "        [ 6.82698548e-01, -6.41137660e-02, -7.58840024e-01,\n",
       "          1.94767654e-01, -2.81261116e-01, -4.68916774e-01,\n",
       "          9.83440578e-02,  2.29263864e-02,  6.22292161e-01,\n",
       "         -6.42634213e-01,  3.64982188e-01],\n",
       "        [ 2.13137284e-01,  5.25843799e-01,  8.82346034e-02,\n",
       "         -3.88054363e-02,  8.60929340e-02, -3.02299857e-01,\n",
       "         -1.49015784e-02, -1.80099115e-01,  1.39136771e-02,\n",
       "          1.30914107e-01, -7.47951632e-03],\n",
       "        [-2.40800172e-01, -4.73177731e-01,  3.39609772e-01,\n",
       "          6.11284912e-01, -2.03595817e-01, -3.36675286e-01,\n",
       "         -4.47880179e-01,  2.87245512e-01,  4.46355581e-01,\n",
       "          7.15581924e-02, -2.55231708e-01],\n",
       "        [ 1.63485050e-01,  5.65639257e-01, -1.28844038e-01,\n",
       "          1.12625456e+00, -1.34272039e-01,  5.33664897e-02,\n",
       "          4.64718431e-01,  1.11033330e-02, -1.78083837e-01,\n",
       "         -5.32513112e-02, -1.52740479e+00],\n",
       "        [ 1.34981051e-01, -1.04126081e-01,  7.71122724e-02,\n",
       "          5.75271398e-02, -2.68071517e-02,  2.77653247e-01,\n",
       "          1.22844301e-01,  6.16403595e-02,  2.47710764e-01,\n",
       "         -2.23328657e-02,  4.18464430e-02],\n",
       "        [ 6.16463900e-01,  2.41711736e-01, -2.82215089e-01,\n",
       "         -3.60671222e-01,  2.65616864e-01, -4.37905282e-01,\n",
       "         -9.00278911e-02, -2.74387524e-02,  3.28495920e-01,\n",
       "         -2.54349291e-01, -3.23876798e-01],\n",
       "        [-9.64777544e-02,  2.37595052e-01,  8.31025839e-02,\n",
       "          1.09705575e-01,  8.56320113e-02,  1.74638569e-01,\n",
       "         -2.13002160e-01,  1.19824156e-01,  2.25427568e-01,\n",
       "         -1.51285857e-01,  7.58413523e-02],\n",
       "        [-9.17057693e-02,  3.74956504e-02,  2.65429527e-01,\n",
       "         -3.10230613e-01, -1.39762193e-01, -5.33612212e-03,\n",
       "         -2.01608852e-01, -1.41509287e-02, -1.78249687e-01,\n",
       "         -9.38256621e-01,  6.16392083e-02],\n",
       "        [ 1.82062194e-01,  8.07263926e-02, -5.39891422e-01,\n",
       "         -7.37126870e-03, -9.90371332e-02, -2.62890235e-02,\n",
       "          1.89973697e-01, -2.00160667e-01,  1.19307067e-03,\n",
       "         -1.08874207e-02, -7.26283491e-02],\n",
       "        [-1.30499735e-01,  2.27006465e-01, -3.04746389e-01,\n",
       "         -9.99109223e-02,  5.06532133e-01, -2.68516392e-01,\n",
       "         -1.50047630e-01, -1.85845792e-01, -1.56560063e-01,\n",
       "         -1.88953634e-02, -1.30560204e-01]], dtype=float32),\n",
       " array([-0.45758918, -0.23427142, -0.13189057, -0.23747528,  0.53483695,\n",
       "         0.2313302 , -0.31394246, -0.02926918, -0.2990725 ,  0.41786316,\n",
       "         0.27657065], dtype=float32),\n",
       " array([[-2.8121167e-01, -1.9248149e-01,  3.7344751e-01, -3.8943079e-01,\n",
       "          3.0189063e-02, -1.0849742e-01, -5.9249151e-01],\n",
       "        [ 3.8201860e-01,  1.1330138e-01,  1.8060851e-01,  4.4316602e-01,\n",
       "          1.6418356e-01,  2.4704836e-01,  3.9395607e-01],\n",
       "        [-7.9066062e-01,  2.5922164e-01, -6.1918479e-01,  1.5863065e-01,\n",
       "          3.9780702e-02, -1.5013008e-01, -1.4132969e-01],\n",
       "        [ 6.8926489e-01, -3.6704081e-01, -5.4283106e-01, -3.1383061e-01,\n",
       "         -3.6153772e-01, -4.5027825e-01,  4.4064733e-01],\n",
       "        [-2.8530616e-01,  6.0406822e-01, -2.2014959e-01,  1.8606767e-01,\n",
       "          3.2308039e-01,  4.9046731e-01, -4.3366328e-01],\n",
       "        [-3.9076871e-01,  2.7138034e-01,  4.1348872e-01,  1.0083587e-01,\n",
       "          6.6178448e-02,  7.6833144e-02, -2.0613030e-01],\n",
       "        [ 2.9878429e-01, -4.4392727e-04,  4.5697987e-02, -1.6847943e-01,\n",
       "          2.3810387e-01,  3.5072041e-01,  4.3120775e-01],\n",
       "        [ 2.5756606e-01,  2.4613254e-01, -5.5103004e-01,  4.7020045e-01,\n",
       "          3.4060726e-01, -3.0544019e-01, -1.9870663e-01],\n",
       "        [-5.2617741e-01,  2.4060071e-01,  4.0859377e-01, -5.6101978e-01,\n",
       "          1.1444981e-01,  3.1128776e-01,  1.3545649e-01],\n",
       "        [-9.2174280e-01,  4.4422263e-01, -3.9421910e-01,  3.6844546e-01,\n",
       "          2.9261547e-01, -8.2989484e-02, -4.5924661e-01],\n",
       "        [ 6.1135054e-01, -7.0159346e-01, -9.1763526e-02, -5.3632259e-01,\n",
       "         -5.6625885e-01, -6.4353669e-01,  4.4320503e-01]], dtype=float32),\n",
       " array([-0.09334601,  0.2903224 , -0.4328419 ,  0.25112233,  0.15677242,\n",
       "         0.17098814, -0.22956951], dtype=float32),\n",
       " array([[ 0.88663894, -0.82163507, -0.6659464 ,  0.67897844,  0.4975284 ,\n",
       "         -0.63818854],\n",
       "        [-0.553912  ,  0.2963895 ,  0.15626286, -0.27451944, -0.9298724 ,\n",
       "          0.08875256],\n",
       "        [-0.28576383,  0.85039634,  0.41832656, -0.6461219 , -0.47189084,\n",
       "          0.263171  ],\n",
       "        [-0.38167456,  0.36063945,  0.13187361, -0.48753688, -0.738573  ,\n",
       "          0.24833193],\n",
       "        [-0.83245724,  0.43908432,  0.25165632, -0.43613786, -1.0242991 ,\n",
       "          0.33035234],\n",
       "        [-0.6693414 ,  0.91276264,  0.49769476, -0.7735035 , -1.1346133 ,\n",
       "          0.5416286 ],\n",
       "        [ 0.69226986, -1.21339   , -0.80076116,  0.85114217,  0.55573773,\n",
       "         -0.85391814]], dtype=float32),\n",
       " array([0.15089478, 0.12426852, 0.02022049, 0.1549602 , 0.26431817,\n",
       "        0.08981224], dtype=float32),\n",
       " array([[ 0.72032887],\n",
       "        [-0.4669884 ],\n",
       "        [-0.7614944 ],\n",
       "        [ 0.7094957 ],\n",
       "        [ 1.0732931 ],\n",
       "        [-0.747004  ]], dtype=float32),\n",
       " array([-1.2136511], dtype=float32)]"
      ]
     },
     "execution_count": 78,
     "metadata": {},
     "output_type": "execute_result"
    }
   ],
   "source": [
    "## Get the weights\n",
    "classifier.get_weights()"
   ]
  },
  {
   "cell_type": "code",
   "execution_count": null,
   "id": "f6065976",
   "metadata": {},
   "outputs": [],
   "source": []
  }
 ],
 "metadata": {
  "kernelspec": {
   "display_name": "Python 3 (ipykernel)",
   "language": "python",
   "name": "python3"
  },
  "language_info": {
   "codemirror_mode": {
    "name": "ipython",
    "version": 3
   },
   "file_extension": ".py",
   "mimetype": "text/x-python",
   "name": "python",
   "nbconvert_exporter": "python",
   "pygments_lexer": "ipython3",
   "version": "3.9.12"
  }
 },
 "nbformat": 4,
 "nbformat_minor": 5
}
